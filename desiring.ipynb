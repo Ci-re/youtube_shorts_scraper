{
 "cells": [
  {
   "cell_type": "code",
   "execution_count": 1,
   "metadata": {},
   "outputs": [],
   "source": [
    "from bs4 import BeautifulSoup\n",
    "import requests\n",
    "import pandas as pd"
   ]
  },
  {
   "cell_type": "code",
   "execution_count": 7,
   "metadata": {},
   "outputs": [],
   "source": [
    "import pandas as pd\n",
    "import os, json\n",
    "\n",
    "def save_json(file, data):\n",
    "    file_path = f\"{file}.json\"\n",
    "    if os.path.exists(file_path):\n",
    "        with open(file_path, \"r\") as f:\n",
    "            existing_data = json.load(f)\n",
    "        existing_data.extend(data)\n",
    "        with open(file_path, \"w\") as f:\n",
    "            f.write(json.dumps(existing_data, indent=2))\n",
    "    else:\n",
    "        try:\n",
    "            with open(file_path, \"w\") as f:\n",
    "                f.write(json.dumps(data, indent=2))\n",
    "        except Exception as e:\n",
    "            print(e)"
   ]
  },
  {
   "cell_type": "code",
   "execution_count": null,
   "metadata": {},
   "outputs": [
    {
     "name": "stdout",
     "output_type": "stream",
     "text": [
      "86\n"
     ]
    }
   ],
   "source": [
    "URL = \"https://www.desiringgod.org/resources/all?page=\"\n",
    "\n",
    "all_links =[]\n",
    "\n",
    "for i in range(86,303):\n",
    "    print(i)\n",
    "    response = requests.get(f\"{URL}{i}\")\n",
    "    soup = BeautifulSoup(response.content, \"html.parser\")    \n",
    "    category_links = soup.select(\"a.card__shadow\")\n",
    "    category_links = [a[\"href\"] for a in category_links]\n",
    "    \n",
    "    data_json = []\n",
    "    response = requests.get(f\"{URL}{i}\")\n",
    "    soup = BeautifulSoup(response.content, \"html.parser\")    \n",
    "    category_links = soup.select(\"a.card__shadow\")\n",
    "    category_links = [a[\"href\"] for a in category_links]\n",
    "    authors = soup.select(\"span.card__author-text\")\n",
    "    authors = [author.text.strip() for author in authors]\n",
    "    \n",
    "    print(authors)\n",
    "    print(len(authors) , len(category_links))\n",
    "    \n",
    "    \n",
    "    base_url = \"https://www.desiringgod.org\"\n",
    "    \n",
    "    for cards_url, author in list(zip(category_links, authors)):\n",
    "        print(cards_url)\n",
    "        response = requests.get(f\"{base_url}{cards_url}\")\n",
    "        soup = BeautifulSoup(response.content, \"html.parser\")    \n",
    "        \n",
    "        if not (headers := soup.select_one(\"header.resource__header > h1\")):\n",
    "            continue\n",
    "        title = headers.text.strip() if title else \" \"\n",
    "        subtitle = soup.select_one(\"header.resource__header > h2\")\n",
    "        subtitle = subtitle.text.strip() if subtitle else \" \"\n",
    "        tag = soup.select(\"header.resource__header > div.resource__meta > ul > li\")\n",
    "        body = soup.find(\"div\", attrs= {\"class\":\"resource__body\"})\n",
    "        body = body.text.strip() if body else \" \"\n",
    "        print(author)\n",
    "        tag = tag[1].text.strip() if len(tag) > 1 else \" \"\n",
    "        \n",
    "        data = {\n",
    "            \"title\": title,\n",
    "            \"subtitle\": subtitle,\n",
    "            \"author\": author,\n",
    "            \"tag\": tag,\n",
    "            \"body\": body,\n",
    "            \"source\": f\"{base_url}{cards_url}\"\n",
    "        }\n",
    "        data_json.append(data)\n",
    "    \n",
    "    save_json(\"desiring\", data_json)\n",
    "    data_json = []\n",
    "    \n",
    "    if response.status_code != 200:\n",
    "        print(f\"Failed to fetch the webpage: {response.status_code}\")\n",
    "    else:\n",
    "        print(\"Webpage fetched successfully!\")\n",
    "        \n",
    "print(len(all_links))"
   ]
  },
  {
   "cell_type": "code",
   "execution_count": 11,
   "metadata": {},
   "outputs": [
    {
     "data": {
      "text/plain": [
       "650"
      ]
     },
     "execution_count": 11,
     "metadata": {},
     "output_type": "execute_result"
    }
   ],
   "source": [
    "i"
   ]
  }
 ],
 "metadata": {
  "kernelspec": {
   "display_name": "venv",
   "language": "python",
   "name": "python3"
  },
  "language_info": {
   "codemirror_mode": {
    "name": "ipython",
    "version": 3
   },
   "file_extension": ".py",
   "mimetype": "text/x-python",
   "name": "python",
   "nbconvert_exporter": "python",
   "pygments_lexer": "ipython3",
   "version": "3.12.3"
  }
 },
 "nbformat": 4,
 "nbformat_minor": 2
}
