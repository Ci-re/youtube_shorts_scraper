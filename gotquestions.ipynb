{
 "cells": [
  {
   "cell_type": "code",
   "execution_count": 2,
   "metadata": {},
   "outputs": [],
   "source": [
    "from bs4 import BeautifulSoup\n",
    "import requests\n",
    "import pandas as pd"
   ]
  },
  {
   "cell_type": "code",
   "execution_count": 3,
   "metadata": {},
   "outputs": [
    {
     "name": "stdout",
     "output_type": "stream",
     "text": [
      "Webpage fetched successfully!\n",
      "[<a href=\"content_God.html\">Questions about God</a>, <a href=\"content_Jesus-Christ.html\">Questions about Jesus Christ</a>, <a href=\"content_Holy-Spirit.html\">Questions about the Holy Spirit</a>, <a href=\"content_salvation.html\">Questions about Salvation</a>, <a href=\"content_Bible.html\">Questions about the Bible</a>, <a href=\"content_church.html\">Questions about the Church</a>, <a href=\"content_end-times.html\">Questions about the End Times</a>, <a href=\"content_angels_demons.html\">Questions about Angels and Demons</a>, <a href=\"content_humanity.html\">Questions about Humanity</a>, <a href=\"content_theology.html\">Questions about Theology</a>, <a href=\"content_apologetics.html\">Questions about Apologetics</a>, <a href=\"content_worldview.html\">Questions about Worldview</a>, <a href=\"content_spiritual-life.html\">Questions about Spiritual Life</a>, <a href=\"content_prayer.html\">Questions about Prayer</a>, <a href=\"content_sin.html\">Questions about Sin</a>, <a href=\"content_eternity.html\">Questions about Eternity</a>, <a href=\"content_relationships.html\">Questions about Relationships</a>, <a href=\"content_family.html\">Questions about Family</a>, <a href=\"content_creation.html\">Questions about Creation</a>, <a href=\"content_cults_religions.html\">Questions about Cults and Religions</a>, <a href=\"content_false-beliefs.html\">Questions about False Beliefs</a>, <a href=\"content_Christianity.html\">Questions about Christianity</a>, <a href=\"content_Christian-history.html\">Questions about Christian History</a>, <a href=\"content_places.html\">Questions about Places in the Bible</a>, <a href=\"content_people.html\">Questions about People in the Bible</a>, <a href=\"content_health.html\">Questions about Health</a>, <a href=\"content_life.html\">Questions about Life</a>, <a href=\"content_topical.html\">Topical Bible Questions</a>, <a href=\"questions-about-books-Bible.html\">Questions about the Books of the Bible</a>, <a href=\"content_Catholicism.html\">Questions about Catholicism</a>, <a href=\"content_Judaism.html\">Questions about Judaism</a>, <a href=\"content_Islam.html\">Questions about Islam</a>, <a href=\"content_GotQuestions.html\">Questions about GotQuestions.org</a>]\n"
     ]
    }
   ],
   "source": [
    "URL = \"https://www.gotquestions.org/content.html\"\n",
    "\n",
    "response = requests.get(URL)\n",
    "if response.status_code != 200:\n",
    "    print(f\"Failed to fetch the webpage: {response.status_code}\")\n",
    "else:\n",
    "    print(\"Webpage fetched successfully!\")\n",
    "    \n",
    "soup = BeautifulSoup(response.content, \"html.parser\")\n",
    "\n",
    "category_links = soup.select(\"h2 > a\")\n",
    "print(category_links)"
   ]
  },
  {
   "cell_type": "code",
   "execution_count": 4,
   "metadata": {},
   "outputs": [],
   "source": [
    "categories = [category_tag.text.strip() for category_tag in category_links]\n",
    "links = [urls[\"href\"] for urls in category_links]\n",
    "categories_links = (list(zip(categories, links)))\n",
    "categories_links = categories_links[13:-1]"
   ]
  },
  {
   "cell_type": "code",
   "execution_count": 5,
   "metadata": {},
   "outputs": [
    {
     "data": {
      "text/plain": [
       "[('Questions about Prayer', 'content_prayer.html'),\n",
       " ('Questions about Sin', 'content_sin.html'),\n",
       " ('Questions about Eternity', 'content_eternity.html'),\n",
       " ('Questions about Relationships', 'content_relationships.html'),\n",
       " ('Questions about Family', 'content_family.html'),\n",
       " ('Questions about Creation', 'content_creation.html'),\n",
       " ('Questions about Cults and Religions', 'content_cults_religions.html'),\n",
       " ('Questions about False Beliefs', 'content_false-beliefs.html'),\n",
       " ('Questions about Christianity', 'content_Christianity.html'),\n",
       " ('Questions about Christian History', 'content_Christian-history.html'),\n",
       " ('Questions about Places in the Bible', 'content_places.html'),\n",
       " ('Questions about People in the Bible', 'content_people.html'),\n",
       " ('Questions about Health', 'content_health.html'),\n",
       " ('Questions about Life', 'content_life.html'),\n",
       " ('Topical Bible Questions', 'content_topical.html'),\n",
       " ('Questions about the Books of the Bible',\n",
       "  'questions-about-books-Bible.html'),\n",
       " ('Questions about Catholicism', 'content_Catholicism.html'),\n",
       " ('Questions about Judaism', 'content_Judaism.html'),\n",
       " ('Questions about Islam', 'content_Islam.html')]"
      ]
     },
     "execution_count": 5,
     "metadata": {},
     "output_type": "execute_result"
    }
   ],
   "source": [
    "categories_links"
   ]
  },
  {
   "cell_type": "code",
   "execution_count": 6,
   "metadata": {},
   "outputs": [],
   "source": [
    "import pandas as pd\n",
    "import os, json\n",
    "\n",
    "def save_json(file, data):\n",
    "    file_path = f\"{file}.json\"\n",
    "    if os.path.exists(file_path):\n",
    "        with open(file_path, \"r\") as f:\n",
    "            existing_data = json.load(f)\n",
    "        existing_data.extend(data)\n",
    "        with open(file_path, \"w\") as f:\n",
    "            f.write(json.dumps(existing_data, indent=2))\n",
    "    else:\n",
    "        try:\n",
    "            with open(file_path, \"w\") as f:\n",
    "                f.write(json.dumps(data, indent=2))\n",
    "        except Exception as e:\n",
    "            print(e)"
   ]
  },
  {
   "cell_type": "code",
   "execution_count": 7,
   "metadata": {},
   "outputs": [
    {
     "name": "stdout",
     "output_type": "stream",
     "text": [
      "'NoneType' object has no attribute 'text'\n",
      "('Connection aborted.', RemoteDisconnected('Remote end closed connection without response'))\n",
      "'NoneType' object has no attribute 'text'\n",
      "'NoneType' object has no attribute 'text'\n"
     ]
    }
   ],
   "source": [
    "base_url = \"https://www.gotquestions.org/\"\n",
    "\n",
    "sub_categories = []\n",
    "for cat, links in categories_links:\n",
    "    try:\n",
    "        res = requests.get(f\"{base_url}{links}\")\n",
    "        soup = BeautifulSoup(res.content, \"html.parser\")\n",
    "        header_sub_category = soup.select(\"div.content > a > h2\")\n",
    "        link_sub_category = soup.select(\"div.content > a\")\n",
    "        header_sub_category = [x.text.strip() for x in header_sub_category]\n",
    "        link_sub_category = [x[\"href\"] for x in link_sub_category]\n",
    "        sub_links = list(zip(header_sub_category, link_sub_category))\n",
    "        for subheader, links_ in sub_links:\n",
    "            res = requests.get(f\"{base_url}{links_}\")\n",
    "            soup = BeautifulSoup(res.content, \"html.parser\")\n",
    "            sub_category = soup.select(\"div.content > a\")\n",
    "            link_sub_category = [x[\"href\"] for x in sub_category]\n",
    "            header_sub_category = [x.text.strip() for x in sub_category]\n",
    "            qa_links = list(zip(header_sub_category, link_sub_category))    \n",
    "            \n",
    "            for head__, links__ in qa_links:\n",
    "                res = requests.get(f\"{base_url}{links__}\")\n",
    "                soup = BeautifulSoup(res.content, \"html.parser\")\n",
    "                question = head__\n",
    "                answer = soup.find(\"div\", itemprop=\"articleBody\")\n",
    "                answer = answer.text.strip()\n",
    "                \n",
    "                dict_sub_categories = {\n",
    "                    \"category\": cat,\n",
    "                    \"sub.category\": subheader,\n",
    "                    \"question\": question,\n",
    "                    \"answer\": answer,\n",
    "                    \"source\": f\"{base_url}{links__}\"\n",
    "                }\n",
    "                # print(dict_sub_categories)\n",
    "                sub_categories.append(dict_sub_categories.copy())\n",
    "            save_json(\"questions_answer\", sub_categories)\n",
    "            sub_categories = []\n",
    "    except Exception as e:\n",
    "        print(e)\n",
    "        continue"
   ]
  },
  {
   "cell_type": "code",
   "execution_count": 8,
   "metadata": {},
   "outputs": [
    {
     "data": {
      "text/plain": [
       "[]"
      ]
     },
     "execution_count": 8,
     "metadata": {},
     "output_type": "execute_result"
    }
   ],
   "source": [
    "sub_categories"
   ]
  }
 ],
 "metadata": {
  "kernelspec": {
   "display_name": "venv",
   "language": "python",
   "name": "python3"
  },
  "language_info": {
   "codemirror_mode": {
    "name": "ipython",
    "version": 3
   },
   "file_extension": ".py",
   "mimetype": "text/x-python",
   "name": "python",
   "nbconvert_exporter": "python",
   "pygments_lexer": "ipython3",
   "version": "3.12.3"
  }
 },
 "nbformat": 4,
 "nbformat_minor": 2
}
