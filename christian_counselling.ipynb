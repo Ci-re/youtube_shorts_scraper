{
 "cells": [
  {
   "cell_type": "code",
   "execution_count": 1,
   "metadata": {},
   "outputs": [],
   "source": [
    "from bs4 import BeautifulSoup\n",
    "import requests\n",
    "import pandas as pd"
   ]
  },
  {
   "cell_type": "code",
   "execution_count": 2,
   "metadata": {},
   "outputs": [],
   "source": [
    "import pandas as pd\n",
    "import os, json\n",
    "\n",
    "def save_json(file, data):\n",
    "    file_path = f\"{file}.json\"\n",
    "    if os.path.exists(file_path):\n",
    "        with open(file_path, \"r\") as f:\n",
    "            existing_data = json.load(f)\n",
    "        existing_data.extend(data)\n",
    "        with open(file_path, \"w\") as f:\n",
    "            f.write(json.dumps(existing_data, indent=2))\n",
    "    else:\n",
    "        try:\n",
    "            with open(file_path, \"w\") as f:\n",
    "                f.write(json.dumps(data, indent=2))\n",
    "        except Exception as e:\n",
    "            print(e)"
   ]
  },
  {
   "cell_type": "code",
   "execution_count": 17,
   "metadata": {},
   "outputs": [],
   "source": [
    "import requests\n",
    "from bs4 import BeautifulSoup\n",
    "import json\n",
    "\n",
    "# Replace with your target URL\n",
    "url = \"https://biblicalcounseling.com/resource-library/topic-index/\"\n",
    "response = requests.get(url)\n",
    "soup = BeautifulSoup(response.text, 'html.parser')\n",
    "categories = {}\n",
    "category_sections = soup.find_all('li', class_='collection__item')\n",
    "for section in category_sections:\n",
    "    category_name = section.find('a',class_=\"collection__item--title\").text.strip()        \n",
    "    links = section.find_all('li', class_='term_child')\n",
    "    # Store links for this category\n",
    "    categories[category_name] = [{\n",
    "        'title': link.text.strip(),\n",
    "        'url': link.find(\"a\")[\"href\"]\n",
    "    } for link in links]\n"
   ]
  },
  {
   "cell_type": "code",
   "execution_count": 25,
   "metadata": {},
   "outputs": [
    {
     "name": "stdout",
     "output_type": "stream",
     "text": [
      "{'title': 'Psychedelic Microdosing', 'subtitle': 'Truth in Love 488', 'author': 'Dale Johnson  Mark Shaw', 'question': 'How do we respond biblically to the medical use of Psychedelics?', 'body': 'Dale Johnson: Today on the podcast, I have with me, Dr. Mark Shaw. He’s a pastor of counseling at the Nocatee\\xa0campus of First Baptist Church in Jacksonville, Florida. He’s the founder of the Addiction Connection, a non-profit equipping ministry for addiction biblical counselors. He’s the author of 28 Publications, including The Heart of Addiction, and the latest one is called Destigmatizing Addiction, Hope through the Gospel. His passion is to see the local church offer compassionate biblical counseling to hurting souls. Mark, Welcome to podcast. You’re no stranger here to our listeners. Thank you for being with us today.\\nMark Shaw: \\xa0Thank you, Dale. Great to be with you.\\nDale Johnson: Now, it is an interesting topic that you’ve chosen here today, I’m looking forward to diving in here. The crazy thing that I’m seeing is the history of Psychiatry, is that it has been in a very interesting flow. It has been broadly cyclical between what’s called biological psychiatry and what I call romantic psychiatry. Which simply means that the idea of biological determinism to things like social and environmental determinism. And we’ve seen cyclical patterns, historically. We’re sort of in one of those tumultuous, maybe cyclical changes, that’s happening right now in the whole psychiatric world. And really what you’re starting to feel is a spiritualism, that is very akin to some openness toward paganism. I think some of the things you’re describing relative to microdosing might be some of that. I’m looking forward to this conversation and how we’re going to dive in here. So, let me just start with this, because some people might be saying, “What in the world is microdosing? I’ve never heard of anything like that,” and then you couple this with psychedelics. Okay, so let’s get into this, Mark. Describe what microdosing actually is, and are there specific chemicals involved in this whole idea of microdosing? And how has it become so popular?\\nMark Shaw: \\xa0Well, it’s in the United States it’s illegal right now, from what I understand. But it’s legal in places like Australia and has been for eight or nine months. And so, the idea of it is that you’re not trying to get high like you would if you took LSD and magic mushrooms, MDMA, Ayahuasca, and some of these drugs. You are trying to get a little bit of a bump, a little bit of an improvement. And in Australia, it’s being used as an antidepressant, and antianxiety, and an anti-PTSD, as they call it. And so it’s taking 10 to 20 micrograms of LSD, Instead of 100 micrograms of LSD for acid trip. That you’re taking just a small, tiny amount. And instead of having a big trip, as they call it, you’re having this sub-perceptual effect. It occurs without awareness, is what they say. But, of course, there’s awareness. And people can feel that, and they say, “it takes the ordinary things in life and makes it not mundane and makes it more enjoyable to do.” And so that’s kind of the idea with it. And where I think it crosses both addiction and mental health issues is right there.\\nDale Johnson: Man, this is so interesting because this would be an admission that this is not something that’s curative. This is actually much closer to proclaiming to be some sort of spiritual pursuit in order to alleviate whatever stressors a person is dealing with. This is not unlike the mental health world was prior to the 1950s, as we think about involvement of psychedelics. Now, to a greater degree when you think about Sigmund Freud, or Timothy Leary, but you certainly see that involvement. And they were taking much higher doses of things like cocaine and LSD. But as you move to a more formal product of psychiatry in the terms of what’s called Chlorpromazine or Thorazine—these things that which were called on the public market, “executives Excedrin” or “minor and major tranquilizers.” This has been a part of the history of Psychiatry. I’m not shocked that we’re moving in this type of direction to try and alleviate, you know, some stressors in some way. I think, in some ways, this is actually helpful to see that the secular world is proclaiming some sort of spiritual pursuit, that is not a godly pursuit. They’re pursuing some sort of pagan reality to try and reduce their stressors and be in touch with some sort of alternate reality. I think, it should wake us up as Christians to see what’s happening here, more broadly. Now, I do want you to describe, and let’s be fair to the way the microdosing actually works. What are some of the specific rewards that those who promote micro dosing claim? And what are some of those potential risks? Because we know with everything, there are iatrogenic effects—which means there are potential risk for the things that someone may get involved in, that are particularly therapeutic. There’s always an opportunity cost, a cost benefit that comes with it. So, what are some of the claimed rewards of microdosing, and what are some of the potential risks?\\nMark Shaw: The first thing they say is that you can perform adequately at work, you can socialize, you can even operate heavy machinery. It scares me a little bit. But they do say there’s an increased creativity, productivity, and happiness, and then a decrease in the symptoms of PTSD. But this is more anecdotal you know self-report kind of information, then actually studied and evidenced in the literature. Then they often tie to this a group effect—So, it’s almost a win, really for psychotherapy, as much it is for pharmacology, in that they really want you to do this in groups with other people. They want you to take these meds and have these journeys—they don’t call them trips anymore, but they are journeys. And you had to do that with a group of people, and everybody’s kind of getting high, and that may be a stronger dose than a microdose, but that’s going on too. It’s a very spiritual experience. A lot of the people like Aaron Rodgers and Joe Rogan, and people that are promoting it would say, “this is a spiritual awakening time for me when I do this.”\\xa0\\nDale Johnson: That’s a really interesting step forward. You mention, psychotherapists are even promoting this to some degree. That’s not shocking because it becomes a means to for them to oppose in many ways to psychiatric establishment. Many people are now recognizing some of the problems with a psychiatric approach to medication, and some of the risk of taking that type of medication, and now running more toward, you know, this micro dosing perspective. I think it is really interesting, what you’re describing. I want you to help us as biblical counselors, as we see this developing in Australia and other parts of the world, and knowing it’s probably become coming here—in part because of the popularity with some celebrities in the U.S. How should we as biblical counselors be thinking about this concept of microdosing?\\nMark Shaw: Well, you know, you said this—that it’s really an admission that what they’ve been doing hasn’t worked, and they’re looking for more ways to treat anxiety and depression, and all that. But as biblical counselors, I think it is just a false refuge of hope. It’s a broken cistern. And so, there might be some benefits and some enhancements, but I think the downside is this is just treating “symptoms”, you know? And it’s not curative. It is not even claiming to be, it’s just meant to be a help. I mean, sometimes I think people do claim, “oh this is going to cure PTSD” or whatnot, but I think as biblical counselors, we need to recognize that it reveals a commitment to feeling good, rather than a commitment to being good or doing good, and being obedient. The commitment level is, “hey, I need to feel better, and that’s number one to me, over and above obeying God.” And I’m not trying to be unfair when I say that. I want to be careful, but that’s what I hear. And then I have talked to people in the addiction world all the time who have relatives and friends. And the anecdotal report I’m hearing is that their loved ones are actually worse after taking this and doing these kinds of treatments. They actually feel more depressed and more out of touch. And, and it just feeds their flesh, you know, and makes them a little more self-centered and sensual than spiritual, even though it’s claiming to be a very spiritual remedy in certain ways.\\nDale Johnson: Yeah, interesting perspective that you described as their wanting to feel good more than wanting to do good, knowing that feelings would follow that. And that’s a really key and important distinction, that they’re not even claiming this is something that’s curative on a biological level. They’re just saying that this can relieve the stress and pressure that comes from whatever’s complicating their life, or making their stress a little bit more difficult from trauma on some level or whatever. Help us to think a little bit more about out what motivates a heart of addiction in regard to, or pressing into, micro dosing. In other words, why is this something that will be tempting to so many, and has been tempting to celebrities in the Western World?\\nMark Shaw: \\xa0I think you know none of us want suffering, but suffering is Redemptive; God uses it redemptively in our lives. And it’s these suffering experiences that lead us back to God, the Great Physician. And so just trying to fix suffering in a fleshly, temporal world kind of way, is not God’s way. And so God is giving us a local church. He’s given us His Word, His spirit, all kinds of resources to help us deal with indwelling sin, and the shame and guilt that comes from that. But then are also sufferings which often times are not our fault, but our suffering may be at the hands of another person, and some of the choices they’ve made that were sinful. And so, God wants us to come to Him with greater faith, and greater trust, and to run to the body of Christ to get help that way. And so, I think this is just almost capitalistically and individualistically a way to fix it without God, and without the body of Christ, and those are some of the dangers that I see with it.\\xa0\\nDale Johnson: Yeah, not to mention the addictive properties that we know historically psychedelics possess. And so, man, very interesting conversation today. Mark, thank you for introducing us to this topic and helping us to think biblically on what inevitably is coming to the U.S. at some point. We’ve seen a little bit with the gateway drug of marijuana being used in similar ways to what we’re describing here. Now to think about this in terms of psychedelics, some would argue ketamine is the precursor of some of this, but very interesting stuff that you’re describing here. Thanks for staying on top of it and keeping us informed to your brother.\\xa0\\nMark Shaw: \\xa0Thank you.\\n\\nHelpful Resources:\\nClick here to learn more about our Counseling Discipleship Training’s!\\nClick here to learn more about training through our training centers!\\n\\n\\n\\n\\nSubscribe:\\n\\n\\n\\n\\n\\n                      Apple Podcasts                    \\n\\nTopics:\\nMedical Issues\\xa0\\n                                      \\n\\n\\n\\n\\n\\n\\n\\n\\n\\n\\n\\n\\n\\n\\n\\n\\n\\n\\n\\n\\n\\n\\n\\n\\n\\n\\n\\n\\n\\n\\n\\n\\n\\n\\n\\n\\n\\n\\n\\n\\n\\n\\n\\n\\n\\nDale Johnson serves as the Executive Director of the Association of Certified Biblical Counselors. He is also the regular host of ACBC’s Truth in Love podcast.                      \\n\\n\\n\\n\\n\\n\\nMark Shaw is ACBC certified since 2002 and serves as the Pastor of Counseling at First Baptist Church of Jacksonville, Florida- Nocatee Campus', 'source': 'https://biblicalcounseling.com/resource-library/podcast-episodes/psychedelic-microdosing/'}\n"
     ]
    }
   ],
   "source": [
    "def scrape_content():\n",
    "    url = \"https://biblicalcounseling.com/resource-library/podcast-episodes/psychedelic-microdosing/\"\n",
    "    headers = {'User-Agent': 'Mozilla/5.0 (X11; Linux x86_64) AppleWebKit/537.36'}\n",
    "\n",
    "    response = requests.get(url, headers=headers)\n",
    "    response.raise_for_status()\n",
    "    soup = BeautifulSoup(response.content, 'html.parser')\n",
    "    header_component = soup.find(\"div\", class_= \"card-content\")\n",
    "    title = header_component.find(\"h1\").text.strip() if header_component.find(\"h1\") else \" \" \n",
    "    subtitle = header_component.find(\"h3\").text.strip() if header_component.find(\"h3\") else \" \" \n",
    "    question = header_component.find(\"p\").text.strip() if header_component.find(\"p\") else \" \" \n",
    "    authors = header_component.find(\"div\", class_=\"authors-wrapper\").text.strip() if header_component.find(\"div\", class_=\"authors-wrapper\") else \" \"\n",
    "    content = soup.find(\"div\", class_=\"article-content\").text.strip()\n",
    "    source = url\n",
    "\n",
    "    return {\n",
    "            \"title\": title,\n",
    "            \"subtitle\": subtitle,\n",
    "            \"author\": authors,\n",
    "            \"question\": question,\n",
    "            \"body\": content,\n",
    "            \"source\": source\n",
    "        }\n"
   ]
  },
  {
   "cell_type": "code",
   "execution_count": 18,
   "metadata": {},
   "outputs": [
    {
     "data": {
      "text/plain": [
       "{'ACBC': [{'title': 'Announcements and Events 33',\n",
       "   'url': '/resource-library/topic-index/announcements-and-events'},\n",
       "  {'title': 'Book Reviews 59',\n",
       "   'url': '/resource-library/topic-index/book-reviews'},\n",
       "  {'title': 'Certification 6',\n",
       "   'url': '/resource-library/topic-index/certification'}],\n",
       " 'Biblical Counseling and Psychology': [{'title': 'Medical Issues 9',\n",
       "   'url': '/resource-library/topic-index/medical-issues'},\n",
       "  {'title': 'Mental Health 19',\n",
       "   'url': '/resource-library/topic-index/mental-health'},\n",
       "  {'title': 'Psychological Theories 24',\n",
       "   'url': '/resource-library/topic-index/psychological-theories'}],\n",
       " 'Counseling Practice': [{'title': 'Counseling Methodology 53',\n",
       "   'url': '/resource-library/topic-index/counseling-methodology'},\n",
       "  {'title': 'How to Begin a Counseling Center 16',\n",
       "   'url': '/resource-library/topic-index/how-to-begin-a-counseling-center'},\n",
       "  {'title': 'Legal Issues in Counseling 12',\n",
       "   'url': '/resource-library/topic-index/legal-issues-in-counseling'}],\n",
       " 'Emotions': [{'title': 'Anger 9',\n",
       "   'url': '/resource-library/topic-index/anger'},\n",
       "  {'title': 'Anxiety 30', 'url': '/resource-library/topic-index/anxiety'},\n",
       "  {'title': 'Depression & Despair 24',\n",
       "   'url': '/resource-library/topic-index/depression-despair'},\n",
       "  {'title': 'Guilt & Shame 6',\n",
       "   'url': '/resource-library/topic-index/guilt-shame'},\n",
       "  {'title': 'Grief 13', 'url': '/resource-library/topic-index/grief'}],\n",
       " 'Family': [{'title': 'Children 17',\n",
       "   'url': '/resource-library/topic-index/children'},\n",
       "  {'title': 'Dating 5', 'url': '/resource-library/topic-index/dating'},\n",
       "  {'title': 'Gender Roles 7',\n",
       "   'url': '/resource-library/topic-index/gender-roles'},\n",
       "  {'title': 'Marriage 44', 'url': '/resource-library/topic-index/marriage'},\n",
       "  {'title': 'Adultery 5', 'url': '/resource-library/topic-index/adultery'},\n",
       "  {'title': 'Parenting 37', 'url': '/resource-library/topic-index/parenting'},\n",
       "  {'title': 'Singleness 5',\n",
       "   'url': '/resource-library/topic-index/singleness'}],\n",
       " 'Spiritual Growth': [{'title': 'Church 16',\n",
       "   'url': '/resource-library/topic-index/church'},\n",
       "  {'title': 'Discipleship 13',\n",
       "   'url': '/resource-library/topic-index/discipleship'},\n",
       "  {'title': 'Spiritual Disciplines 26',\n",
       "   'url': '/resource-library/topic-index/spiritual-disciplines'},\n",
       "  {'title': 'Pastoral Care 13',\n",
       "   'url': '/resource-library/topic-index/pastoral-care'},\n",
       "  {'title': 'Repentance 11',\n",
       "   'url': '/resource-library/topic-index/repentance'}],\n",
       " 'Suffering': [{'title': 'Death and Dying 9',\n",
       "   'url': '/resource-library/topic-index/death-and-dying'},\n",
       "  {'title': 'Illness 8', 'url': '/resource-library/topic-index/illness'},\n",
       "  {'title': 'Suicide & Self-Harm 13',\n",
       "   'url': '/resource-library/topic-index/suicide-self-harm'},\n",
       "  {'title': 'Post-Traumatic Stress 10',\n",
       "   'url': '/resource-library/topic-index/post-traumatic-stress'},\n",
       "  {'title': 'Crisis 5', 'url': '/resource-library/topic-index/crisis'}],\n",
       " 'Theology': [{'title': 'Faith 14',\n",
       "   'url': '/resource-library/topic-index/faith'},\n",
       "  {'title': 'Gospel 6', 'url': '/resource-library/topic-index/gospel'},\n",
       "  {'title': 'Sanctification 13',\n",
       "   'url': '/resource-library/topic-index/sanctification'},\n",
       "  {'title': 'Scripture 19', 'url': '/resource-library/topic-index/scripture'},\n",
       "  {'title': 'Sufficiency 11',\n",
       "   'url': '/resource-library/topic-index/sufficiency'},\n",
       "  {'title': 'Sin 20', 'url': '/resource-library/topic-index/sin'}],\n",
       " 'Typical Issues': [{'title': 'Abortion 8',\n",
       "   'url': '/resource-library/topic-index/abortion-typical-issues'},\n",
       "  {'title': 'Abuse 28', 'url': '/resource-library/topic-index/abuse'},\n",
       "  {'title': 'Addiction & Bondage 14',\n",
       "   'url': '/resource-library/topic-index/addiction-bondage'},\n",
       "  {'title': 'Body 14', 'url': '/resource-library/topic-index/body'},\n",
       "  {'title': 'Communication 11',\n",
       "   'url': '/resource-library/topic-index/communication'},\n",
       "  {'title': 'Conflict 17', 'url': '/resource-library/topic-index/conflict'},\n",
       "  {'title': 'Forgiveness 12',\n",
       "   'url': '/resource-library/topic-index/forgiveness'},\n",
       "  {'title': 'Relationships 16',\n",
       "   'url': '/resource-library/topic-index/relationships'},\n",
       "  {'title': 'Sexual Sin 31',\n",
       "   'url': '/resource-library/topic-index/sexual-sin'},\n",
       "  {'title': 'Sexuality 14', 'url': '/resource-library/topic-index/sexuality'},\n",
       "  {'title': 'Spiritual Warfare 5',\n",
       "   'url': '/resource-library/topic-index/spiritual-warfare'},\n",
       "  {'title': 'Temptation 6',\n",
       "   'url': '/resource-library/topic-index/temptation'}]}"
      ]
     },
     "execution_count": 18,
     "metadata": {},
     "output_type": "execute_result"
    }
   ],
   "source": [
    "categories = list(categories.items())[1:]\n",
    "\n"
   ]
  }
 ],
 "metadata": {
  "kernelspec": {
   "display_name": "venv",
   "language": "python",
   "name": "python3"
  },
  "language_info": {
   "codemirror_mode": {
    "name": "ipython",
    "version": 3
   },
   "file_extension": ".py",
   "mimetype": "text/x-python",
   "name": "python",
   "nbconvert_exporter": "python",
   "pygments_lexer": "ipython3",
   "version": "3.12.3"
  }
 },
 "nbformat": 4,
 "nbformat_minor": 2
}
